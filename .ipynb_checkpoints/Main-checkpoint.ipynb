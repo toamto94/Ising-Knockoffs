{
 "cells": [
  {
   "cell_type": "code",
   "execution_count": 1,
   "metadata": {},
   "outputs": [],
   "source": [
    "import numpy as np\n",
    "import pandas as pd\n",
    "from Ising_Knockoffs import Ising_Knockoffs"
   ]
  },
  {
   "cell_type": "markdown",
   "metadata": {},
   "source": [
    "Load Ising data and the respective coupling matrix"
   ]
  },
  {
   "cell_type": "code",
   "execution_count": 3,
   "metadata": {},
   "outputs": [],
   "source": [
    "Z = np.array(pd.read_csv(\"data\\\\Z.csv\"))\n",
    "Theta = np.array(pd.read_csv(\"data\\\\Theta.csv\"))"
   ]
  },
  {
   "cell_type": "markdown",
   "metadata": {},
   "source": [
    "Create Instance of sampler"
   ]
  },
  {
   "cell_type": "code",
   "execution_count": 4,
   "metadata": {},
   "outputs": [],
   "source": [
    "sampler = Ising_Knockoffs(Z, Theta)"
   ]
  },
  {
   "cell_type": "markdown",
   "metadata": {},
   "source": [
    "Sample Knockoffs"
   ]
  },
  {
   "cell_type": "code",
   "execution_count": 5,
   "metadata": {},
   "outputs": [
    {
     "name": "stdout",
     "output_type": "stream",
     "text": [
      "10 knockoffs generated\n",
      "20 knockoffs generated\n",
      "30 knockoffs generated\n",
      "40 knockoffs generated\n",
      "50 knockoffs generated\n",
      "60 knockoffs generated\n",
      "70 knockoffs generated\n",
      "80 knockoffs generated\n",
      "90 knockoffs generated\n",
      "100 knockoffs generated\n",
      "110 knockoffs generated\n",
      "120 knockoffs generated\n",
      "130 knockoffs generated\n",
      "140 knockoffs generated\n",
      "150 knockoffs generated\n",
      "160 knockoffs generated\n",
      "170 knockoffs generated\n",
      "180 knockoffs generated\n",
      "190 knockoffs generated\n",
      "200 knockoffs generated\n",
      "210 knockoffs generated\n",
      "220 knockoffs generated\n",
      "230 knockoffs generated\n",
      "240 knockoffs generated\n",
      "250 knockoffs generated\n",
      "260 knockoffs generated\n",
      "270 knockoffs generated\n",
      "280 knockoffs generated\n",
      "290 knockoffs generated\n",
      "300 knockoffs generated\n",
      "310 knockoffs generated\n",
      "320 knockoffs generated\n",
      "330 knockoffs generated\n",
      "340 knockoffs generated\n",
      "350 knockoffs generated\n",
      "360 knockoffs generated\n",
      "370 knockoffs generated\n",
      "380 knockoffs generated\n",
      "390 knockoffs generated\n",
      "400 knockoffs generated\n",
      "410 knockoffs generated\n",
      "420 knockoffs generated\n",
      "430 knockoffs generated\n",
      "440 knockoffs generated\n",
      "450 knockoffs generated\n",
      "460 knockoffs generated\n",
      "470 knockoffs generated\n",
      "480 knockoffs generated\n",
      "490 knockoffs generated\n",
      "500 knockoffs generated\n",
      "510 knockoffs generated\n",
      "520 knockoffs generated\n",
      "530 knockoffs generated\n",
      "540 knockoffs generated\n",
      "550 knockoffs generated\n",
      "560 knockoffs generated\n",
      "570 knockoffs generated\n",
      "580 knockoffs generated\n",
      "590 knockoffs generated\n",
      "600 knockoffs generated\n",
      "610 knockoffs generated\n",
      "620 knockoffs generated\n",
      "630 knockoffs generated\n",
      "640 knockoffs generated\n",
      "650 knockoffs generated\n",
      "660 knockoffs generated\n",
      "670 knockoffs generated\n",
      "680 knockoffs generated\n",
      "690 knockoffs generated\n",
      "700 knockoffs generated\n",
      "710 knockoffs generated\n",
      "720 knockoffs generated\n",
      "730 knockoffs generated\n",
      "740 knockoffs generated\n",
      "750 knockoffs generated\n",
      "760 knockoffs generated\n",
      "770 knockoffs generated\n",
      "780 knockoffs generated\n",
      "790 knockoffs generated\n"
     ]
    }
   ],
   "source": [
    "Z_tilde = sampler.sample_knockoffs()"
   ]
  },
  {
   "cell_type": "code",
   "execution_count": null,
   "metadata": {},
   "outputs": [],
   "source": []
  }
 ],
 "metadata": {
  "kernelspec": {
   "display_name": "Python 3",
   "language": "python",
   "name": "python3"
  },
  "language_info": {
   "codemirror_mode": {
    "name": "ipython",
    "version": 3
   },
   "file_extension": ".py",
   "mimetype": "text/x-python",
   "name": "python",
   "nbconvert_exporter": "python",
   "pygments_lexer": "ipython3",
   "version": "3.7.6"
  }
 },
 "nbformat": 4,
 "nbformat_minor": 4
}
